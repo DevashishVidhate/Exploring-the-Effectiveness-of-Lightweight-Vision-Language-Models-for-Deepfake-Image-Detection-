{
 "cells": [
  {
   "cell_type": "code",
   "execution_count": 15,
   "id": "268b4091-1441-410d-8b9d-59cb19a76890",
   "metadata": {},
   "outputs": [
    {
     "name": "stdout",
     "output_type": "stream",
     "text": [
      "CUDA available: True\n",
      "PyTorch CUDA: 11.8\n",
      "GPU: NVIDIA GeForce RTX 3090 | VRAM(GB): 25.77\n",
      "Threads: 20 | Physical cores: 12\n"
     ]
    }
   ],
   "source": [
    "import torch, os, psutil\n",
    "print(\"CUDA available:\", torch.cuda.is_available())\n",
    "print(\"PyTorch CUDA:\", torch.version.cuda)\n",
    "if torch.cuda.is_available():\n",
    "    print(\"GPU:\", torch.cuda.get_device_name(0),\n",
    "          \"| VRAM(GB):\", round(torch.cuda.get_device_properties(0).total_memory/1e9,2))\n",
    "print(\"Threads:\", os.cpu_count(), \"| Physical cores:\", psutil.cpu_count(logical=False))\n",
    "torch.backends.cudnn.benchmark = True\n",
    "torch.backends.cuda.matmul.allow_tf32 = True\n"
   ]
  },
  {
   "cell_type": "code",
   "execution_count": 16,
   "id": "a241f92f-f086-4bf2-9810-7a5da264c76c",
   "metadata": {},
   "outputs": [
    {
     "name": "stdout",
     "output_type": "stream",
     "text": [
      "Device: cuda\n"
     ]
    }
   ],
   "source": [
    "import random, numpy as np, torch\n",
    "\n",
    "# CSVs (columns: image_path,label)\n",
    "TRAIN_CSV = r\"C:\\K2452367\\Dissertation\\Deepfakedetection_masters_2025\\FF++(HQ)\\FF++(HQ)_CSV\\combined_training_original_cross_data_full_with_augmentation.csv\"\n",
    "VAL_CSV   = r\"C:\\K2452367\\Dissertation\\Deepfakedetection_masters_2025\\FF++(HQ)\\FF++(HQ)_CSV\\combined_validation_original_cross_data_full_with_augmentation.csv\"\n",
    "TEST_CSV  = r\"C:\\K2452367\\Dissertation\\Deepfakedetection_masters_2025\\FF++(HQ)\\FF++(HQ)_CSV\\combined_testing_original_cross_data_full_with_augmentation.csv\"\n",
    "\n",
    "DEVICE      = \"cuda\" if torch.cuda.is_available() else \"cpu\"\n",
    "BATCH_SIZE  = 8\n",
    "NUM_EPOCHS  = 10\n",
    "NUM_WORKERS = 0        # Windows-safe; try 4–8 later if stable\n",
    "CKPT_DIR    = \"checkpoints\"\n",
    "RESUME      = True     # resume if latest.pt exists\n",
    "\n",
    "\n",
    "# Training hyperparams\n",
    "LR           = 1e-4           \n",
    "WEIGHT_DECAY = 0.05           \n",
    "LORA_RANK    = 16             \n",
    "LORA_ALPHA   = 32             \n",
    "LORA_DROPOUT = 0.10           \n",
    "WARMUP_RATIO = 0.10           \n",
    "\n",
    "\n",
    "# Early stopping (on Val Loss)\n",
    "EARLY_PATIENCE   = 3\n",
    "EARLY_MIN_DELTA  = 1e-4\n",
    "\n",
    "def set_seed(seed=42):\n",
    "    random.seed(seed); np.random.seed(seed)\n",
    "    torch.manual_seed(seed); torch.cuda.manual_seed_all(seed)\n",
    "    torch.backends.cudnn.deterministic = True\n",
    "set_seed(42)\n",
    "\n",
    "os.makedirs(CKPT_DIR, exist_ok=True)\n",
    "print(\"Device:\", DEVICE)\n"
   ]
  },
  {
   "cell_type": "code",
   "execution_count": 17,
   "id": "e43f4b15-2136-4390-b1ea-ca28b20a14d2",
   "metadata": {},
   "outputs": [
    {
     "name": "stdout",
     "output_type": "stream",
     "text": [
      "Transforms & dataset class ready.\n"
     ]
    }
   ],
   "source": [
    "import pandas as pd\n",
    "from torch.utils.data import Dataset\n",
    "from PIL import Image, ImageFile\n",
    "from torchvision import transforms\n",
    "ImageFile.LOAD_TRUNCATED_IMAGES = True\n",
    "\n",
    "CLIP_MEAN = (0.48145466, 0.4578275, 0.40821073)\n",
    "CLIP_STD  = (0.26862954, 0.26130258, 0.27577711)\n",
    "\n",
    "class DeepfakeDataset(Dataset):\n",
    "    def __init__(self, csv_file, transform=None):\n",
    "        self.data = pd.read_csv(csv_file); self.transform = transform\n",
    "    def __len__(self): return len(self.data)\n",
    "    def __getitem__(self, idx):\n",
    "        for _ in range(3):\n",
    "            row = self.data.iloc[idx]\n",
    "            p, y = row[\"path\"], int(row[\"label\"])\n",
    "            try:\n",
    "                img = Image.open(p).convert(\"RGB\")\n",
    "                if self.transform: img = self.transform(img)\n",
    "                return img, y\n",
    "            except Exception:\n",
    "                idx = np.random.randint(0, len(self.data))\n",
    "        import torch\n",
    "        return torch.zeros(3,224,224), 0\n",
    "\n",
    "train_tfms = transforms.Compose([\n",
    "    transforms.RandomResizedCrop(224, scale=(0.7, 1.0)),\n",
    "    transforms.RandomHorizontalFlip(),\n",
    "    transforms.ColorJitter(0.2,0.2,0.2,0.1),\n",
    "    transforms.ToTensor(),\n",
    "    transforms.Normalize(CLIP_MEAN, CLIP_STD),\n",
    "])\n",
    "eval_tfms = transforms.Compose([\n",
    "    transforms.Resize((224,224)),\n",
    "    transforms.ToTensor(),\n",
    "    transforms.Normalize(CLIP_MEAN, CLIP_STD),\n",
    "])\n",
    "print(\"Transforms & dataset class ready.\")\n"
   ]
  },
  {
   "cell_type": "code",
   "execution_count": 18,
   "id": "d4bcca97-1525-4550-8842-e311d00e2c17",
   "metadata": {},
   "outputs": [
    {
     "name": "stdout",
     "output_type": "stream",
     "text": [
      "Probe batch: torch.Size([8, 3, 224, 224]), labels: 8\n",
      "Sizes — train:171686 val:33472 test:33295\n"
     ]
    }
   ],
   "source": [
    "from torch.utils.data import DataLoader\n",
    "\n",
    "train_ds = DeepfakeDataset(TRAIN_CSV, transform=train_tfms)\n",
    "val_ds   = DeepfakeDataset(VAL_CSV,   transform=eval_tfms)\n",
    "test_ds  = DeepfakeDataset(TEST_CSV,  transform=eval_tfms)\n",
    "\n",
    "dl_args = dict(batch_size=BATCH_SIZE, num_workers=NUM_WORKERS, pin_memory=True)\n",
    "train_loader = DataLoader(train_ds, shuffle=True,  **dl_args)\n",
    "val_loader   = DataLoader(val_ds,   shuffle=False, **dl_args)\n",
    "test_loader  = DataLoader(test_ds,  shuffle=False, **dl_args)\n",
    "\n",
    "xb, yb = next(iter(train_loader))\n",
    "print(f\"Probe batch: {xb.shape}, labels: {len(yb)}\")\n",
    "print(f\"Sizes — train:{len(train_ds)} val:{len(val_ds)} test:{len(test_ds)}\")\n"
   ]
  },
  {
   "cell_type": "code",
   "execution_count": 19,
   "id": "63c47fd4-1fd3-4604-88b3-715c7f3d2916",
   "metadata": {},
   "outputs": [
    {
     "name": "stdout",
     "output_type": "stream",
     "text": [
      "Model builders ready.\n"
     ]
    }
   ],
   "source": [
    "import torch.nn as nn\n",
    "from transformers import CLIPModel\n",
    "\n",
    "def build_vision_encoder():\n",
    "    clip = CLIPModel.from_pretrained(\"openai/clip-vit-large-patch14\")\n",
    "    return clip.vision_model  # CLIPVisionModel\n",
    "\n",
    "class DeepfakeClassifier(nn.Module):\n",
    "    def __init__(self, vision_encoder, embed_dim=768, num_classes=2):\n",
    "        super().__init__()\n",
    "        self.vision_encoder = vision_encoder\n",
    "        self.proj = nn.Linear(vision_encoder.config.hidden_size, embed_dim)\n",
    "        self.cls  = nn.Linear(embed_dim, num_classes)\n",
    "    def forward(self, x):\n",
    "        out = self.vision_encoder(pixel_values=x)  # correct HF arg\n",
    "        feat = self.proj(out.pooler_output)\n",
    "        return self.cls(feat)\n",
    "\n",
    "print(\"Model builders ready.\")\n"
   ]
  },
  {
   "cell_type": "code",
   "execution_count": 20,
   "id": "ad5f6f8a-1009-4326-a5be-c9510a98a29a",
   "metadata": {},
   "outputs": [],
   "source": [
    "import math, torch\n",
    "from transformers.models.clip.modeling_clip import CLIPAttention\n",
    "\n",
    "class LoRALinear(nn.Module):\n",
    "    def __init__(self, base: nn.Linear, r: int, alpha: int, dropout: float):\n",
    "        super().__init__()\n",
    "        self.base = base\n",
    "        for p in self.base.parameters(): p.requires_grad = False\n",
    "        in_f, out_f = base.in_features, base.out_features\n",
    "        self.lora_A = nn.Linear(in_f, r, bias=False)\n",
    "        self.lora_B = nn.Linear(r, out_f, bias=False)\n",
    "        nn.init.kaiming_uniform_(self.lora_A.weight, a=math.sqrt(5))\n",
    "        nn.init.zeros_(self.lora_B.weight)\n",
    "        self.scaling = alpha / float(r)\n",
    "        self.drop = nn.Dropout(dropout)\n",
    "    def forward(self, x):\n",
    "        y = self.base(x)\n",
    "        return y + self.scaling * self.lora_B(self.lora_A(self.drop(x))).to(y.dtype)\n",
    "\n",
    "def apply_lora_to_encoder(vision_encoder, r=4, alpha=32, dropout=0.1):\n",
    "    n = 0\n",
    "    for m in vision_encoder.modules():\n",
    "        if isinstance(m, CLIPAttention):\n",
    "            m.q_proj   = LoRALinear(m.q_proj,   r, alpha, dropout)\n",
    "            m.k_proj   = LoRALinear(m.k_proj,   r, alpha, dropout)\n",
    "            m.v_proj   = LoRALinear(m.v_proj,   r, alpha, dropout)\n",
    "            m.out_proj = LoRALinear(m.out_proj, r, alpha, dropout)\n",
    "            n += 1\n",
    "    print(f\"LoRA applied to {n} attention blocks.\")\n"
   ]
  },
  {
   "cell_type": "code",
   "execution_count": 21,
   "id": "9fd43570-d857-46e8-8d0e-4c38109b6a1c",
   "metadata": {},
   "outputs": [
    {
     "name": "stdout",
     "output_type": "stream",
     "text": [
      "LoRA applied to 24 attention blocks.\n",
      "Trainable: 3,934,466 / 307,114,242 (1.28%)\n"
     ]
    }
   ],
   "source": [
    "def count_trainable_params(model):\n",
    "    t = sum(p.numel() for p in model.parameters())\n",
    "    tr = sum(p.numel() for p in model.parameters() if p.requires_grad)\n",
    "    print(f\"Trainable: {tr:,} / {t:,} ({100*tr/t:.2f}%)\")\n",
    "\n",
    "enc = build_vision_encoder()\n",
    "for p in enc.parameters(): p.requires_grad = False\n",
    "apply_lora_to_encoder(enc, r=LORA_RANK, alpha=LORA_ALPHA, dropout=LORA_DROPOUT)\n",
    "\n",
    "model = DeepfakeClassifier(enc).to(DEVICE)\n",
    "count_trainable_params(model)\n"
   ]
  },
  {
   "cell_type": "code",
   "execution_count": 22,
   "id": "f6cbd842-2e5d-41cc-b72e-baf6c3f19e63",
   "metadata": {},
   "outputs": [
    {
     "name": "stdout",
     "output_type": "stream",
     "text": [
      "Total params:     307,114,242\n",
      "Trainable params: 3,934,466 (1.28%)\n",
      "Frozen params:    303,179,776 (98.72%)\n"
     ]
    }
   ],
   "source": [
    "def print_param_counts(model):\n",
    "    total = sum(p.numel() for p in model.parameters())\n",
    "    train = sum(p.numel() for p in model.parameters() if p.requires_grad)\n",
    "    frozen = total - train\n",
    "    print(f\"Total params:     {total:,}\")\n",
    "    print(f\"Trainable params: {train:,} ({train/total*100:.2f}%)\")\n",
    "    print(f\"Frozen params:    {frozen:,} ({frozen/total*100:.2f}%)\")\n",
    "\n",
    "print_param_counts(model)\n"
   ]
  },
  {
   "cell_type": "code",
   "execution_count": 23,
   "id": "b55b774e-5565-4a0a-b0c6-b0a7c3e07bfb",
   "metadata": {},
   "outputs": [
    {
     "name": "stdout",
     "output_type": "stream",
     "text": [
      "Optim, scaler, scheduler ready.\n"
     ]
    }
   ],
   "source": [
    "import torch.optim as optim\n",
    "from sklearn.metrics import accuracy_score, f1_score, roc_auc_score\n",
    "from torch.amp import GradScaler, autocast\n",
    "\n",
    "criterion = nn.CrossEntropyLoss()\n",
    "\n",
    "def compute_metrics(y_true, y_pred, y_prob):\n",
    "    acc = accuracy_score(y_true, y_pred)\n",
    "    f1  = f1_score(y_true, y_pred)\n",
    "    try: auc = roc_auc_score(y_true, y_prob)\n",
    "    except: auc = 0.0\n",
    "    return acc, f1, auc\n",
    "\n",
    "def create_cosine_with_warmup(optimizer, total_steps, warmup_ratio=0.1, min_lr=0.0):\n",
    "    warm = max(1, int(total_steps * warmup_ratio))\n",
    "    def lr_lambda(step):\n",
    "        if step < warm: return step / float(max(1, warm))\n",
    "        prog = (step - warm) / float(max(1, total_steps - warm))\n",
    "        return max(min_lr, 0.5 * (1.0 + math.cos(math.pi * prog)))\n",
    "    return optim.lr_scheduler.LambdaLR(optimizer, lr_lambda)\n",
    "\n",
    "optimizer = optim.AdamW(model.parameters(), lr=LR, weight_decay=WEIGHT_DECAY)\n",
    "total_steps = max(1, len(train_loader)) * NUM_EPOCHS\n",
    "scheduler  = create_cosine_with_warmup(optimizer, total_steps, warmup_ratio=WARMUP_RATIO)\n",
    "scaler     = GradScaler(device=\"cuda\" if DEVICE==\"cuda\" else \"cpu\")\n",
    "print(\"Optim, scaler, scheduler ready.\")\n"
   ]
  },
  {
   "cell_type": "code",
   "execution_count": 24,
   "id": "179513c4-db93-4297-b03b-3af0ae9fdeaa",
   "metadata": {},
   "outputs": [],
   "source": [
    "from tqdm import tqdm\n",
    "\n",
    "def train_one_epoch(epoch, model, loader, optimizer, scheduler, scaler):\n",
    "    model.train(); tot, ys, yh, yp = 0.0, [], [], []\n",
    "    for imgs, labels in tqdm(loader, desc=f\"Epoch {epoch} [Train]\"):\n",
    "        imgs = imgs.to(DEVICE, non_blocking=True)\n",
    "        labels = torch.as_tensor(labels, device=DEVICE)\n",
    "        optimizer.zero_grad(set_to_none=True)\n",
    "        with autocast(device_type=\"cuda\", enabled=(DEVICE==\"cuda\")):\n",
    "            logits = model(imgs)\n",
    "            loss = criterion(logits, labels)\n",
    "        scaler.scale(loss).backward()\n",
    "        scaler.step(optimizer); scaler.update(); scheduler.step()\n",
    "        tot += loss.item() * imgs.size(0)\n",
    "        probs = torch.softmax(logits, dim=1)[:,1].detach().cpu().numpy()\n",
    "        preds = logits.argmax(1).detach().cpu().numpy()\n",
    "        ys.extend(labels.detach().cpu().numpy()); yh.extend(preds); yp.extend(probs)\n",
    "    avg = tot / len(loader.dataset); acc,f1,auc = compute_metrics(ys,yh,yp)\n",
    "    print(f\"[Train] Ep{epoch:02d} | Loss {avg:.4f} | Acc {acc:.4f} | F1 {f1:.4f} | AUROC {auc:.4f}\")\n",
    "    return avg, acc, f1, auc\n",
    "\n",
    "def validate(epoch, model, loader):\n",
    "    model.eval(); tot, ys, yh, yp = 0.0, [], [], []\n",
    "    with torch.no_grad():\n",
    "        for imgs, labels in loader:\n",
    "            imgs = imgs.to(DEVICE, non_blocking=True)\n",
    "            labels = torch.as_tensor(labels, device=DEVICE)\n",
    "            with autocast(device_type=\"cuda\", enabled=(DEVICE==\"cuda\")):\n",
    "                logits = model(imgs)\n",
    "                loss = criterion(logits, labels)\n",
    "            tot += loss.item() * imgs.size(0)\n",
    "            probs = torch.softmax(logits, dim=1)[:,1].cpu().numpy()\n",
    "            preds = logits.argmax(1).cpu().numpy()\n",
    "            ys.extend(labels.cpu().numpy()); yh.extend(preds); yp.extend(probs)\n",
    "    avg = tot / len(loader.dataset); acc,f1,auc = compute_metrics(ys,yh,yp)\n",
    "    print(f\"[Val]   Ep{epoch:02d} | Loss {avg:.4f} | Acc {acc:.4f} | F1 {f1:.4f} | AUROC {auc:.4f}\")\n",
    "    return avg, acc, f1, auc\n"
   ]
  },
  {
   "cell_type": "code",
   "execution_count": 25,
   "id": "72b9c876-df1b-4948-a424-42d978abca3d",
   "metadata": {},
   "outputs": [],
   "source": [
    "import os, torch\n",
    "\n",
    "def save_ckpt(state, name):\n",
    "    torch.save(state, os.path.join(CKPT_DIR, name))\n",
    "\n",
    "def load_ckpt(model, optimizer, scheduler, scaler, name=\"latest.pt\"):\n",
    "    path = os.path.join(CKPT_DIR, name)\n",
    "    if not os.path.exists(path): return model, optimizer, scheduler, scaler, 1, 0.0, float(\"inf\"), 0, False\n",
    "    ckpt = torch.load(path, map_location=DEVICE)\n",
    "    model.load_state_dict(ckpt[\"model\"])\n",
    "    optimizer.load_state_dict(ckpt[\"optimizer\"])\n",
    "    scheduler.load_state_dict(ckpt[\"scheduler\"])\n",
    "    scaler.load_state_dict(ckpt[\"scaler\"])\n",
    "    start_epoch = ckpt[\"epoch\"] + 1\n",
    "    best_auc    = ckpt.get(\"best_auc\", 0.0)\n",
    "    best_loss   = ckpt.get(\"best_loss\", float(\"inf\"))\n",
    "    es_bad      = ckpt.get(\"early_bad\", 0)\n",
    "    return model, optimizer, scheduler, scaler, start_epoch, best_auc, best_loss, es_bad, True\n",
    "\n",
    "class EarlyStopper:\n",
    "    def __init__(self, patience=3, min_delta=1e-4, mode='min'):\n",
    "        self.patience = patience; self.min_delta = min_delta; self.mode = mode\n",
    "        self.best = float('inf') if mode=='min' else -float('inf')\n",
    "        self.bad = 0\n",
    "    def step(self, value):\n",
    "        if self.mode == 'min':\n",
    "            improved = value < self.best - self.min_delta\n",
    "        else:\n",
    "            improved = value > self.best + self.min_delta\n",
    "        if improved:\n",
    "            self.best = value; self.bad = 0; return False\n",
    "        self.bad += 1\n",
    "        return self.bad >= self.patience\n"
   ]
  },
  {
   "cell_type": "code",
   "execution_count": 26,
   "id": "92f08c1b-a48e-46c2-a153-d52bbdd91e00",
   "metadata": {},
   "outputs": [
    {
     "name": "stdout",
     "output_type": "stream",
     "text": [
      "No checkpoint found; fresh start.\n"
     ]
    },
    {
     "name": "stderr",
     "output_type": "stream",
     "text": [
      "Epoch 1 [Train]: 100%|█████████████████████████████████████████████████████████| 21461/21461 [1:47:59<00:00,  3.31it/s]\n"
     ]
    },
    {
     "name": "stdout",
     "output_type": "stream",
     "text": [
      "[Train] Ep01 | Loss 0.1216 | Acc 0.9470 | F1 0.9474 | AUROC 0.9909\n",
      "[Val]   Ep01 | Loss 0.0921 | Acc 0.9666 | F1 0.9657 | AUROC 0.9965\n",
      "💾 Best-by-AUROC updated (Val AUROC 0.9965)\n"
     ]
    },
    {
     "name": "stderr",
     "output_type": "stream",
     "text": [
      "Epoch 2 [Train]: 100%|█████████████████████████████████████████████████████████| 21461/21461 [1:42:34<00:00,  3.49it/s]\n"
     ]
    },
    {
     "name": "stdout",
     "output_type": "stream",
     "text": [
      "[Train] Ep02 | Loss 0.0531 | Acc 0.9797 | F1 0.9797 | AUROC 0.9982\n",
      "[Val]   Ep02 | Loss 0.0883 | Acc 0.9713 | F1 0.9707 | AUROC 0.9962\n"
     ]
    },
    {
     "name": "stderr",
     "output_type": "stream",
     "text": [
      "Epoch 3 [Train]: 100%|█████████████████████████████████████████████████████████| 21461/21461 [1:40:12<00:00,  3.57it/s]\n"
     ]
    },
    {
     "name": "stdout",
     "output_type": "stream",
     "text": [
      "[Train] Ep03 | Loss 0.0404 | Acc 0.9850 | F1 0.9850 | AUROC 0.9989\n",
      "[Val]   Ep03 | Loss 0.1100 | Acc 0.9667 | F1 0.9658 | AUROC 0.9965\n"
     ]
    },
    {
     "name": "stderr",
     "output_type": "stream",
     "text": [
      "Epoch 4 [Train]: 100%|█████████████████████████████████████████████████████████| 21461/21461 [1:38:28<00:00,  3.63it/s]\n"
     ]
    },
    {
     "name": "stdout",
     "output_type": "stream",
     "text": [
      "[Train] Ep04 | Loss 0.0323 | Acc 0.9876 | F1 0.9876 | AUROC 0.9993\n",
      "[Val]   Ep04 | Loss 0.0641 | Acc 0.9769 | F1 0.9768 | AUROC 0.9979\n",
      "💾 Best-by-AUROC updated (Val AUROC 0.9979)\n"
     ]
    },
    {
     "name": "stderr",
     "output_type": "stream",
     "text": [
      "Epoch 5 [Train]: 100%|█████████████████████████████████████████████████████████| 21461/21461 [1:35:26<00:00,  3.75it/s]\n"
     ]
    },
    {
     "name": "stdout",
     "output_type": "stream",
     "text": [
      "[Train] Ep05 | Loss 0.0254 | Acc 0.9901 | F1 0.9901 | AUROC 0.9996\n",
      "[Val]   Ep05 | Loss 0.0937 | Acc 0.9757 | F1 0.9754 | AUROC 0.9978\n"
     ]
    },
    {
     "name": "stderr",
     "output_type": "stream",
     "text": [
      "Epoch 6 [Train]: 100%|█████████████████████████████████████████████████████████| 21461/21461 [1:32:18<00:00,  3.87it/s]\n"
     ]
    },
    {
     "name": "stdout",
     "output_type": "stream",
     "text": [
      "[Train] Ep06 | Loss 0.0191 | Acc 0.9928 | F1 0.9928 | AUROC 0.9998\n",
      "[Val]   Ep06 | Loss 0.0906 | Acc 0.9742 | F1 0.9743 | AUROC 0.9974\n"
     ]
    },
    {
     "name": "stderr",
     "output_type": "stream",
     "text": [
      "Epoch 7 [Train]: 100%|█████████████████████████████████████████████████████████| 21461/21461 [1:39:38<00:00,  3.59it/s]\n"
     ]
    },
    {
     "name": "stdout",
     "output_type": "stream",
     "text": [
      "[Train] Ep07 | Loss 0.0126 | Acc 0.9951 | F1 0.9951 | AUROC 0.9999\n",
      "[Val]   Ep07 | Loss 0.1072 | Acc 0.9778 | F1 0.9775 | AUROC 0.9978\n",
      "⏹️ Early stopping at epoch 7 (best Val Loss 0.0641).\n",
      "✅ Training finished.\n"
     ]
    }
   ],
   "source": [
    "# Early stopping on Val Loss; best model saved by Val AUROC\n",
    "early = EarlyStopper(patience=EARLY_PATIENCE, min_delta=EARLY_MIN_DELTA, mode='min')\n",
    "start_epoch, best_auc, best_loss, es_bad = 1, 0.0, float(\"inf\"), 0\n",
    "\n",
    "if RESUME:\n",
    "    model, optimizer, scheduler, scaler, start_epoch, best_auc, best_loss, es_bad, ok = load_ckpt(\n",
    "        model, optimizer, scheduler, scaler, \"latest.pt\"\n",
    "    )\n",
    "    if ok:\n",
    "        early.best = best_loss; early.bad = es_bad\n",
    "        print(f\"Resumed from epoch {start_epoch-1} | best_auc={best_auc:.4f} | best_loss={best_loss:.4f}\")\n",
    "    else:\n",
    "        print(\"No checkpoint found; fresh start.\")\n",
    "else:\n",
    "    print(\"Fresh start (RESUME=False).\")\n",
    "\n",
    "for epoch in range(start_epoch, NUM_EPOCHS+1):\n",
    "    _ = train_one_epoch(epoch, model, train_loader, optimizer, scheduler, scaler)\n",
    "    val_loss, val_acc, val_f1, val_auc = validate(epoch, model, val_loader)\n",
    "\n",
    "    # Save latest (with early stopper state)\n",
    "    save_ckpt({\n",
    "        \"epoch\": epoch, \"model\": model.state_dict(),\n",
    "        \"optimizer\": optimizer.state_dict(),\n",
    "        \"scheduler\": scheduler.state_dict(),\n",
    "        \"scaler\": scaler.state_dict(),\n",
    "        \"best_auc\": best_auc,\n",
    "        \"best_loss\": min(best_loss, val_loss),\n",
    "        \"early_bad\": early.bad\n",
    "    }, \"latest.pt\")\n",
    "\n",
    "    # Save best-by-AUROC model\n",
    "    if val_auc > best_auc:\n",
    "        best_auc = val_auc\n",
    "        save_ckpt({\n",
    "            \"epoch\": epoch, \"model\": model.state_dict(),\n",
    "            \"optimizer\": optimizer.state_dict(),\n",
    "            \"scheduler\": scheduler.state_dict(),\n",
    "            \"scaler\": scaler.state_dict(),\n",
    "            \"best_auc\": best_auc,\n",
    "            \"best_loss\": min(best_loss, val_loss),\n",
    "            \"early_bad\": early.bad\n",
    "        }, \"best_by_auc.pt\")\n",
    "        print(f\"💾 Best-by-AUROC updated (Val AUROC {val_auc:.4f})\")\n",
    "\n",
    "    # Track best loss (for info / resume)\n",
    "    if val_loss < best_loss:\n",
    "        best_loss = val_loss\n",
    "\n",
    "    # Early stopping on Val Loss\n",
    "    if early.step(val_loss):\n",
    "        print(f\"⏹️ Early stopping at epoch {epoch} (best Val Loss {early.best:.4f}).\")\n",
    "        break\n",
    "\n",
    "print(\"✅ Training finished.\")\n"
   ]
  },
  {
   "cell_type": "code",
   "execution_count": 27,
   "id": "c128b708-d9a8-4859-8c03-ae7a0c32d22e",
   "metadata": {},
   "outputs": [
    {
     "name": "stdout",
     "output_type": "stream",
     "text": [
      "Loaded best_by_auc.pt\n",
      "\n",
      "Classification Report:\n",
      "              precision    recall  f1-score   support\n",
      "\n",
      "           0     0.9703    0.9773    0.9738     16676\n",
      "           1     0.9770    0.9700    0.9735     16619\n",
      "\n",
      "    accuracy                         0.9736     33295\n",
      "   macro avg     0.9737    0.9736    0.9736     33295\n",
      "weighted avg     0.9737    0.9736    0.9736     33295\n",
      "\n",
      "\n",
      "Confusion Matrix:\n",
      " [[16297   379]\n",
      " [  499 16120]]\n",
      "\n",
      "AUROC: 0.9972\n"
     ]
    },
    {
     "data": {
      "image/png": "[encoded data removed]",
      "text/plain": [
       "<Figure size 640x480 with 1 Axes>"
      ]
     },
     "metadata": {},
     "output_type": "display_data"
    }
   ],
   "source": [
    "import numpy as np, matplotlib.pyplot as plt\n",
    "from sklearn.metrics import classification_report, confusion_matrix, roc_curve, auc\n",
    "\n",
    "best_path = os.path.join(CKPT_DIR, \"best_by_auc.pt\")\n",
    "if os.path.exists(best_path):\n",
    "    state = torch.load(best_path, map_location=DEVICE)\n",
    "    model.load_state_dict(state[\"model\"])\n",
    "    print(\"Loaded best_by_auc.pt\")\n",
    "else:\n",
    "    print(\"best_by_auc.pt not found; using current weights.\")\n",
    "\n",
    "model.eval(); ys, yh, yp = [], [], []\n",
    "with torch.no_grad():\n",
    "    for imgs, labels in test_loader:\n",
    "        imgs = imgs.to(DEVICE, non_blocking=True)\n",
    "        logits = model(imgs)\n",
    "        probs = torch.softmax(logits, dim=1)[:,1].cpu().numpy()\n",
    "        preds = logits.argmax(1).cpu().numpy()\n",
    "        ys.extend(labels); yh.extend(preds); yp.extend(probs)\n",
    "\n",
    "print(\"\\nClassification Report:\")\n",
    "print(classification_report(ys, yh, digits=4))\n",
    "cm = confusion_matrix(ys, yh)\n",
    "print(\"\\nConfusion Matrix:\\n\", cm)\n",
    "\n",
    "fpr, tpr, _ = roc_curve(ys, np.array(yp))\n",
    "roc_auc = auc(fpr, tpr)\n",
    "print(f\"\\nAUROC: {roc_auc:.4f}\")\n",
    "\n",
    "plt.figure()\n",
    "plt.plot(fpr, tpr, label=f\"ROC (AUC={roc_auc:.4f})\")\n",
    "plt.plot([0,1],[0,1],'--')\n",
    "plt.xlabel(\"FPR\"); plt.ylabel(\"TPR\"); plt.title(\"ROC — Test\")\n",
    "plt.legend(loc=\"lower right\"); plt.show()\n"
   ]
  },
  {
   "cell_type": "code",
   "execution_count": 28,
   "id": "c616e4b6-0b22-4038-a37e-e6d7782563b9",
   "metadata": {},
   "outputs": [
    {
     "name": "stdout",
     "output_type": "stream",
     "text": [
      "\n",
      "--- Testing best model on held-out FF++ test set ---\n",
      "Loaded best_by_auc.pt\n",
      "\n",
      "Classification Report:\n",
      "              precision    recall  f1-score   support\n",
      "\n",
      "           0     0.9703    0.9773    0.9738     16676\n",
      "           1     0.9770    0.9700    0.9735     16619\n",
      "\n",
      "    accuracy                         0.9736     33295\n",
      "   macro avg     0.9737    0.9736    0.9736     33295\n",
      "weighted avg     0.9737    0.9736    0.9736     33295\n",
      "\n",
      "\n",
      "Confusion Matrix:\n",
      " [[16297   379]\n",
      " [  499 16120]]\n",
      "\n",
      "AUROC: 0.9972\n"
     ]
    },
    {
     "data": {
      "image/png": "[encoded data removed]",
      "text/plain": [
       "<Figure size 640x480 with 1 Axes>"
      ]
     },
     "metadata": {},
     "output_type": "display_data"
    }
   ],
   "source": [
    "# 16) MAIN TEST — Test Best Model on Hold-out Set\n",
    "# ────────────────────────────────────────────────────────────\n",
    "print(\"\\n--- Testing best model on held-out FF++ test set ---\")\n",
    "best_path = os.path.join(CKPT_DIR, \"best_by_auc.pt\")\n",
    "if os.path.exists(best_path):\n",
    "    state = torch.load(best_path, map_location=DEVICE)\n",
    "    model.load_state_dict(state[\"model\"])\n",
    "    print(\"Loaded best_by_auc.pt\")\n",
    "else:\n",
    "    print(\"best_by_auc.pt not found; using current weights.\")\n",
    "\n",
    "model.eval(); ys, yh, yp = [], [], []\n",
    "with torch.no_grad():\n",
    "    for imgs, labels in test_loader:\n",
    "        imgs = imgs.to(DEVICE, non_blocking=True)\n",
    "        logits = model(imgs)\n",
    "        probs = torch.softmax(logits, dim=1)[:,1].cpu().numpy()\n",
    "        preds = logits.argmax(1).cpu().numpy()\n",
    "        ys.extend(labels); yh.extend(preds); yp.extend(probs)\n",
    "\n",
    "print(\"\\nClassification Report:\")\n",
    "print(classification_report(ys, yh, digits=4))\n",
    "cm = confusion_matrix(ys, yh)\n",
    "print(\"\\nConfusion Matrix:\\n\", cm)\n",
    "\n",
    "fpr, tpr, _ = roc_curve(ys, np.array(yp))\n",
    "roc_auc = auc(fpr, tpr)\n",
    "print(f\"\\nAUROC: {roc_auc:.4f}\")\n",
    "\n",
    "plt.figure()\n",
    "plt.plot(fpr, tpr, label=f\"ROC (AUC={roc_auc:.4f})\")\n",
    "plt.plot([0,1],[0,1],'--')\n",
    "plt.xlabel(\"FPR\"); plt.ylabel(\"TPR\"); plt.title(\"ROC — Test\")\n",
    "plt.legend(loc=\"lower right\"); plt.show()\n",
    "\n",
    "\n"
   ]
  },
  {
   "cell_type": "code",
   "execution_count": 29,
   "id": "08cd53ff-8336-46f4-b2c9-3c886d3b34ca",
   "metadata": {},
   "outputs": [
    {
     "name": "stdout",
     "output_type": "stream",
     "text": [
      "\n",
      "--- Testing on CelebDF ---\n",
      "\n",
      "Classification Report:\n",
      "              precision    recall  f1-score   support\n",
      "\n",
      "           0     0.6012    0.4711    0.5283      5258\n",
      "           1     0.7493    0.8350    0.7898      9956\n",
      "\n",
      "    accuracy                         0.7092     15214\n",
      "   macro avg     0.6753    0.6530    0.6590     15214\n",
      "weighted avg     0.6981    0.7092    0.6994     15214\n",
      "\n",
      "\n",
      "Confusion Matrix:\n",
      " [[2477 2781]\n",
      " [1643 8313]]\n",
      "\n",
      "AUROC: 0.7363\n"
     ]
    },
    {
     "data": {
      "image/png": "[encoded data removed]",
      "text/plain": [
       "<Figure size 640x480 with 1 Axes>"
      ]
     },
     "metadata": {},
     "output_type": "display_data"
    }
   ],
   "source": [
    "# 17) CelebDF Test Set\n",
    "# ──────────────────────────────────────────────\n",
    "CELEB_CSV = r\"C:\\\\K2452367\\\\Dissertation\\\\Deepfakedetection_masters_2025\\\\celebdf_v2\\\\celeb_df_output_file.csv\"\n",
    "celeb_ds = DeepfakeDataset(CELEB_CSV, transform=eval_tfms)\n",
    "celeb_loader = DataLoader(celeb_ds, batch_size=BATCH_SIZE*2, shuffle=False, num_workers=NUM_WORKERS)\n",
    "\n",
    "print(\"\\n--- Testing on CelebDF ---\")\n",
    "model.eval(); ys, yh, yp = [], [], []\n",
    "with torch.no_grad():\n",
    "    for imgs, labels in celeb_loader:\n",
    "        imgs = imgs.to(DEVICE, non_blocking=True)\n",
    "        logits = model(imgs)\n",
    "        probs = torch.softmax(logits, dim=1)[:,1].cpu().numpy()\n",
    "        preds = logits.argmax(1).cpu().numpy()\n",
    "        ys.extend(labels); yh.extend(preds); yp.extend(probs)\n",
    "\n",
    "print(\"\\nClassification Report:\")\n",
    "print(classification_report(ys, yh, digits=4))\n",
    "cm = confusion_matrix(ys, yh)\n",
    "print(\"\\nConfusion Matrix:\\n\", cm)\n",
    "\n",
    "fpr, tpr, _ = roc_curve(ys, np.array(yp))\n",
    "roc_auc = auc(fpr, tpr)\n",
    "print(f\"\\nAUROC: {roc_auc:.4f}\")\n",
    "\n",
    "plt.figure()\n",
    "plt.plot(fpr, tpr, label=f\"ROC (AUC={roc_auc:.4f})\")\n",
    "plt.plot([0,1],[0,1],'--')\n",
    "plt.xlabel(\"FPR\"); plt.ylabel(\"TPR\"); plt.title(\"ROC — CelebDF\")\n",
    "plt.legend(loc=\"lower right\"); plt.show()\n",
    "\n",
    "\n"
   ]
  },
  {
   "cell_type": "code",
   "execution_count": 30,
   "id": "2d113a1f-9849-46bd-81bd-15e6de0368ea",
   "metadata": {},
   "outputs": [
    {
     "name": "stdout",
     "output_type": "stream",
     "text": [
      "\n",
      "--- Testing on WildDeepfake ---\n",
      "\n",
      "Classification Report:\n",
      "              precision    recall  f1-score   support\n",
      "\n",
      "           0     0.7286    0.6196    0.6697     36279\n",
      "           1     0.6631    0.7644    0.7102     35541\n",
      "\n",
      "    accuracy                         0.6913     71820\n",
      "   macro avg     0.6959    0.6920    0.6899     71820\n",
      "weighted avg     0.6962    0.6913    0.6897     71820\n",
      "\n",
      "\n",
      "Confusion Matrix:\n",
      " [[22478 13801]\n",
      " [ 8372 27169]]\n",
      "\n",
      "AUROC: 0.7873\n"
     ]
    },
    {
     "data": {
      "image/png": "[encoded data removed]",
      "text/plain": [
       "<Figure size 640x480 with 1 Axes>"
      ]
     },
     "metadata": {},
     "output_type": "display_data"
    }
   ],
   "source": [
    "# 18) WildDeepfake Test Set\n",
    "# ──────────────────────────────────────────────\n",
    "WILD_CSV = r\"C:\\\\K2452367\\\\Dissertation\\\\Deepfakedetection_masters_2025\\\\wilddeepfake\\\\wilddeepfake_test.csv\"\n",
    "wild_ds = DeepfakeDataset(WILD_CSV, transform=eval_tfms)\n",
    "wild_loader = DataLoader(wild_ds, batch_size=BATCH_SIZE*2, shuffle=False, num_workers=NUM_WORKERS)\n",
    "\n",
    "print(\"\\n--- Testing on WildDeepfake ---\")\n",
    "model.eval(); ys, yh, yp = [], [], []\n",
    "with torch.no_grad():\n",
    "    for imgs, labels in wild_loader:\n",
    "        imgs = imgs.to(DEVICE, non_blocking=True)\n",
    "        logits = model(imgs)\n",
    "        probs = torch.softmax(logits, dim=1)[:,1].cpu().numpy()\n",
    "        preds = logits.argmax(1).cpu().numpy()\n",
    "        ys.extend(labels); yh.extend(preds); yp.extend(probs)\n",
    "\n",
    "print(\"\\nClassification Report:\")\n",
    "print(classification_report(ys, yh, digits=4))\n",
    "cm = confusion_matrix(ys, yh)\n",
    "print(\"\\nConfusion Matrix:\\n\", cm)\n",
    "\n",
    "fpr, tpr, _ = roc_curve(ys, np.array(yp))\n",
    "roc_auc = auc(fpr, tpr)\n",
    "print(f\"\\nAUROC: {roc_auc:.4f}\")\n",
    "\n",
    "plt.figure()\n",
    "plt.plot(fpr, tpr, label=f\"ROC (AUC={roc_auc:.4f})\")\n",
    "plt.plot([0,1],[0,1],'--')\n",
    "plt.xlabel(\"FPR\"); plt.ylabel(\"TPR\"); plt.title(\"ROC — WildDeepfake\")\n",
    "plt.legend(loc=\"lower right\"); plt.show()\n"
   ]
  },
  {
   "cell_type": "code",
   "execution_count": 31,
   "id": "56ed8ec3-d4d6-47cf-9bbc-55c68d78328f",
   "metadata": {},
   "outputs": [],
   "source": [
    "# 22) Grad-CAM Visualization for Vision Model (No LORA)\n",
    "# ──────────────────────────────────────────────────────────────────────────────\n",
    "class GradCAM_CLIP:\n",
    "    def __init__(self, model):\n",
    "        self.model = model.eval()\n",
    "\n",
    "    def _forward_and_get_grad(self, image_tensor, label=None):\n",
    "        image_tensor = image_tensor.unsqueeze(0).to(DEVICE).requires_grad_(True)\n",
    "\n",
    "        # Forward\n",
    "        logits = self.model(image_tensor)\n",
    "        probs = torch.softmax(logits, dim=1)\n",
    "        pred_label = logits.argmax(dim=1).item()\n",
    "\n",
    "        target_label = pred_label if label is None else label\n",
    "        loss = probs[0, target_label]\n",
    "\n",
    "        self.model.zero_grad()\n",
    "        loss.backward()\n",
    "\n",
    "        # Get gradients w.r.t. input image\n",
    "        gradients = image_tensor.grad.detach().abs().mean(dim=1)[0].cpu().numpy()\n",
    "        return gradients, pred_label, float(probs[0, pred_label])\n",
    "\n",
    "    def generate_overlay(self, pil_img, saliency_map):\n",
    "        saliency_map = (saliency_map - saliency_map.min()) / (saliency_map.max() - saliency_map.min() + 1e-8)\n",
    "        heatmap = (plt.cm.jet(saliency_map)[..., :3] * 255).astype(np.uint8)\n",
    "        heatmap_img = Image.fromarray(heatmap).resize(pil_img.size, resample=Image.BILINEAR)\n",
    "        overlay = Image.blend(pil_img.convert(\"RGBA\"), heatmap_img.convert(\"RGBA\"), alpha=0.4)\n",
    "        return overlay\n"
   ]
  },
  {
   "cell_type": "code",
   "execution_count": 32,
   "id": "9159a3a9-0d61-408f-8aa5-bdd02eefd22c",
   "metadata": {},
   "outputs": [],
   "source": [
    "# Display Grad-CAM overlays from any dataset\n",
    "from torchvision.transforms.functional import to_pil_image\n",
    "\n",
    "def show_gradcam_examples(loader, model, dataset_name=\"Test Set\", num_images=8):\n",
    "    cam = GradCAM_CLIP(model)\n",
    "    count = 0\n",
    "    rows = max(1, num_images // 4)\n",
    "    cols = min(4, num_images)\n",
    "\n",
    "    plt.figure(figsize=(4 * cols, 3 * rows))\n",
    "    for imgs, labels in loader:\n",
    "        for img, label in zip(imgs, labels):\n",
    "            if count >= num_images:\n",
    "                break\n",
    "            try:\n",
    "                saliency, pred, conf = cam._forward_and_get_grad(img, label)\n",
    "                pil_img = to_pil_image(img.cpu() * torch.tensor(CLIP_STD)[:, None, None] + torch.tensor(CLIP_MEAN)[:, None, None])\n",
    "                overlay = cam.generate_overlay(pil_img, saliency)\n",
    "            except Exception as e:\n",
    "                print(\"GradCAM failed:\", e)\n",
    "                continue\n",
    "            plt.subplot(rows, cols, count + 1)\n",
    "            plt.imshow(overlay)\n",
    "            plt.axis(\"off\")\n",
    "            plt.title(f\"GT:{'Real' if label==0 else 'Fake'} | Pred:{'Real' if pred==0 else 'Fake'}\\nConf:{conf:.2f}\")\n",
    "            count += 1\n",
    "        if count >= num_images:\n",
    "            break\n",
    "    plt.suptitle(f\"Grad-CAM (CLIP-based Vision Model): {dataset_name}\", fontsize=14)\n",
    "    plt.tight_layout()\n",
    "    plt.show()\n"
   ]
  },
  {
   "cell_type": "code",
   "execution_count": null,
   "id": "33929a23-89fb-45f6-acf3-c8e40a7b8e82",
   "metadata": {},
   "outputs": [],
   "source": []
  },
  {
   "cell_type": "code",
   "execution_count": null,
   "id": "e1d491fd-d49d-4f0f-b978-aa66b797addb",
   "metadata": {},
   "outputs": [],
   "source": []
  },
  {
   "cell_type": "code",
   "execution_count": null,
   "id": "fcb28d9a-b54b-49de-ae2c-36f06287ebe9",
   "metadata": {},
   "outputs": [],
   "source": []
  },
  {
   "cell_type": "code",
   "execution_count": null,
   "id": "1259c880-3907-4b6a-b05f-141ae181bcfc",
   "metadata": {},
   "outputs": [],
   "source": []
  },
  {
   "cell_type": "code",
   "execution_count": null,
   "id": "e77a42b0-5c9a-478f-87cc-b54dfa0fc786",
   "metadata": {},
   "outputs": [],
   "source": []
  },
  {
   "cell_type": "code",
   "execution_count": null,
   "id": "883a9b8c-5299-4d2d-8353-968072777f22",
   "metadata": {},
   "outputs": [],
   "source": []
  },
  {
   "cell_type": "code",
   "execution_count": null,
   "id": "c3a117d4-acb4-45d0-b21a-d5994244de18",
   "metadata": {},
   "outputs": [],
   "source": []
  },
  {
   "cell_type": "code",
   "execution_count": null,
   "id": "bf691187-d29c-47cf-843c-c6d59fb29b15",
   "metadata": {},
   "outputs": [],
   "source": []
  },
  {
   "cell_type": "code",
   "execution_count": null,
   "id": "93079b72-021f-4128-b601-64ec5268dd3a",
   "metadata": {},
   "outputs": [],
   "source": []
  },
  {
   "cell_type": "code",
   "execution_count": null,
   "id": "71a4ea66-73eb-4593-a724-0a8f16244bb5",
   "metadata": {},
   "outputs": [],
   "source": []
  },
  {
   "cell_type": "code",
   "execution_count": null,
   "id": "f6b75875-78c4-4c66-9f68-5bf228586600",
   "metadata": {},
   "outputs": [],
   "source": []
  },
  {
   "cell_type": "code",
   "execution_count": null,
   "id": "99696b15-5e77-412f-8de2-6b2e1b3beba8",
   "metadata": {},
   "outputs": [],
   "source": []
  }
 ],
 "metadata": {
  "kernelspec": {
   "display_name": "Python 3 (ipykernel)",
   "language": "python",
   "name": "python3"
  },
  "language_info": {
   "codemirror_mode": {
    "name": "ipython",
    "version": 3
   },
   "file_extension": ".py",
   "mimetype": "text/x-python",
   "name": "python",
   "nbconvert_exporter": "python",
   "pygments_lexer": "ipython3",
   "version": "3.11.9"
  }
 },
 "nbformat": 4,
 "nbformat_minor": 5
}
